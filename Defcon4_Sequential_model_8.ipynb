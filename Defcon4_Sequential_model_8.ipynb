{
 "cells": [
  {
   "cell_type": "code",
   "execution_count": 1,
   "id": "a2a745ff",
   "metadata": {},
   "outputs": [
    {
     "name": "stdout",
     "output_type": "stream",
     "text": [
      "tensorflow version: \u001b[1;94m2.8.2\u001b[0m\n",
      "New files...\n"
     ]
    }
   ],
   "source": [
    "from __future__ import absolute_import\n",
    "from IPython.display import clear_output\n",
    "import json, os\n",
    "from os.path import *\n",
    "os.environ['TF_CPP_MIN_LOG_LEVEL'] = '5'\n",
    "from time import perf_counter\n",
    "from BashColors import C\n",
    "from TarfileFunctions import *\n",
    "from CV2_Utils_2 import *\n",
    "\n",
    "# import ImageClassifierDataLoader as icd\n",
    "# from ImageClassifierDataLoader import *\n",
    "\n",
    "import tensorflow as tf \n",
    "print(f'tensorflow version: {C.BIBlue}{tf.__version__}{C.ColorOff}')\n",
    "from tensorflow.keras.models import Sequential\n",
    "from tensorflow.keras import layers, initializers\n",
    "from tensorflow.keras.layers import Dense, Dropout, Flatten\n",
    "from tensorflow.keras.layers import Conv2D, MaxPooling2D\n",
    "from tensorflow.keras.losses import sparse_categorical_crossentropy\n",
    "from tensorflow.keras.optimizers import *\n",
    "from tensorflow.keras.layers import Conv2D, MaxPooling2D, Flatten, Dense\n",
    "\n",
    "from os.path import exists, join\n",
    "\n",
    "contentPath = os.getcwd()\n",
    "cv2Path=join(contentPath, 'CV2Images')\n",
    "genPath=join(contentPath, 'DataGenerator')\n",
    "testPath=join(contentPath, 'images')\n",
    "checkpointPath = join(contentPath, 'CheckPoints')\n",
    "\n",
    "if not exists(genPath):\n",
    "    tff.extractTarfiles('DataGenerator5.tar.gz')\n",
    "if not exists(testPath):\n",
    "    tff.extractTarfiles('images.tar.gz')\n",
    "    \n",
    "initialGlobList:list\n",
    "with open(\"initialGlobList.json\", 'r') as f:\n",
    "    initialGlobList = json.load(f)\n",
    "    \n",
    "def listNewFiles(initial=initialGlobList, delete=False):\n",
    "    currentFilesGlob=glob.glob('**', recursive=False)\n",
    "    print(f'New files...')\n",
    "    if len(initialGlobList) == len(currentFilesGlob):\n",
    "        print(f'{C.BIRed}No new files.\\nNothing to see here.')\n",
    "    for fil in currentFilesGlob:\n",
    "        if not fil in initial:\n",
    "            if isdir(fil):\n",
    "                print(f'{C.BIBlue}{fil}')\n",
    "                if delete:\n",
    "                    shutil.rmtree(fil)\n",
    "            elif isfile(fil):\n",
    "                print(f'{C.ColorOff}{fil}')\n",
    "                if delete:\n",
    "                    os.remove(fil)\n",
    "listNewFiles()"
   ]
  },
  {
   "cell_type": "code",
   "execution_count": 2,
   "id": "4896a413",
   "metadata": {},
   "outputs": [
    {
     "name": "stdout",
     "output_type": "stream",
     "text": [
      "ok\n"
     ]
    }
   ],
   "source": [
    "earlyStop = tf.keras.callbacks.EarlyStopping(\n",
    "    monitor='accuracy', min_delta=0, patience=2, verbose=1,\n",
    "    mode='auto', baseline=None, restore_best_weights=True,\n",
    ")\n",
    "checkpoints = tf.keras.callbacks.ModelCheckpoint(\n",
    "    filepath = checkpointPath,\n",
    "    monitor='accuracy', verbose=1, save_best_only=True,\n",
    "    save_weights_only=False, mode='auto', save_freq='epoch',\n",
    "    options=None\n",
    ")\n",
    "print('ok')"
   ]
  },
  {
   "cell_type": "code",
   "execution_count": 3,
   "id": "90be910c",
   "metadata": {},
   "outputs": [
    {
     "name": "stdout",
     "output_type": "stream",
     "text": [
      "Found 844 files belonging to 3 classes.\n",
      "Using 676 files for training.\n",
      "\n",
      "Found 844 files belonging to 3 classes.\n",
      "Using 168 files for validation.\n",
      "\n",
      "Found 4 files belonging to 1 classes.\n",
      "\n",
      "TRAIN_STEPS: 22\n",
      "VAL_STEPS: 6\n"
     ]
    }
   ],
   "source": [
    "IMAGE_SIZE=(224, 224)\n",
    "BATCH_SIZE = 32\n",
    "\n",
    "import tensorflow\n",
    "from tensorflow.keras.utils import image_dataset_from_directory\n",
    "train_ds = image_dataset_from_directory(\n",
    "    genPath,\n",
    "    color_mode='rgb',\n",
    "    validation_split=0.2,\n",
    "    subset=\"training\",\n",
    "    seed=456,\n",
    "    image_size=(224, 224),\n",
    "    shuffle=True,\n",
    "    batch_size=BATCH_SIZE)\n",
    "print()\n",
    "\n",
    "validation_ds = image_dataset_from_directory(\n",
    "    genPath,\n",
    "    color_mode='rgb',\n",
    "    validation_split=0.2,\n",
    "    subset=\"validation\",\n",
    "    seed=456,\n",
    "    image_size=(224, 224),\n",
    "    shuffle=True,\n",
    "    batch_size=BATCH_SIZE)\n",
    "print()\n",
    "\n",
    "test_ds = image_dataset_from_directory(\n",
    "    testPath,\n",
    "    color_mode='rgb',\n",
    "    image_size=(224, 224),\n",
    "    shuffle=False,\n",
    "    seed=456,\n",
    "    batch_size = 1)\n",
    "# clear_output()\n",
    "\n",
    "TRAIN_STEPS = train_ds.cardinality().numpy() # 676 // BATCH_SIZE\n",
    "print('\\nTRAIN_STEPS:', TRAIN_STEPS)\n",
    "VAL_STEPS = validation_ds.cardinality().numpy() # 168 // BATCH_SIZE\n",
    "print('VAL_STEPS:', VAL_STEPS)"
   ]
  },
  {
   "cell_type": "code",
   "execution_count": 4,
   "id": "26e2ac0e",
   "metadata": {},
   "outputs": [
    {
     "name": "stdout",
     "output_type": "stream",
     "text": [
      "Model: \"Defcon4_Sequential_V8\"\n",
      "_________________________________________________________________\n",
      " Layer (type)                Output Shape              Param #   \n",
      "=================================================================\n",
      " conv2d (Conv2D)             (None, 222, 222, 32)      896       \n",
      "                                                                 \n",
      " max_pooling2d (MaxPooling2D  (None, 111, 111, 32)     0         \n",
      " )                                                               \n",
      "                                                                 \n",
      " conv2d_1 (Conv2D)           (None, 109, 109, 16)      4624      \n",
      "                                                                 \n",
      " max_pooling2d_1 (MaxPooling  (None, 54, 54, 16)       0         \n",
      " 2D)                                                             \n",
      "                                                                 \n",
      " conv2d_2 (Conv2D)           (None, 52, 52, 64)        9280      \n",
      "                                                                 \n",
      " max_pooling2d_2 (MaxPooling  (None, 26, 26, 64)       0         \n",
      " 2D)                                                             \n",
      "                                                                 \n",
      " flatten (Flatten)           (None, 43264)             0         \n",
      "                                                                 \n",
      " dropout (Dropout)           (None, 43264)             0         \n",
      "                                                                 \n",
      " dense (Dense)               (None, 64)                2768960   \n",
      "                                                                 \n",
      " dense_1 (Dense)             (None, 512)               33280     \n",
      "                                                                 \n",
      "=================================================================\n",
      "Total params: 2,817,040\n",
      "Trainable params: 2,817,040\n",
      "Non-trainable params: 0\n",
      "_________________________________________________________________\n"
     ]
    }
   ],
   "source": [
    "model = tf.keras.Sequential(name='Defcon4_Sequential_V8')\n",
    "model.add(Conv2D(\n",
    "    32, (3,3), activation='relu', input_shape=(224,224,3),\n",
    "    kernel_initializer=initializers.RandomNormal(stddev=0.01),\n",
    "    bias_initializer=initializers.Zeros()\n",
    "))\n",
    "model.add(MaxPooling2D(2,2))\n",
    "model.add(Conv2D(16, (3,3), activation='relu'))\n",
    "model.add(MaxPooling2D(2,2))\n",
    "          \n",
    "model.add(Conv2D(64, (3,3), activation='relu'))\n",
    "model.add(MaxPooling2D(2,2))\n",
    "\n",
    "# model.add(Conv2D(128, (3,3), activation='relu'))\n",
    "# model.add(MaxPooling2D(2,2))\n",
    "# model.add(Conv2D(256, (3,3), activation='relu'))\n",
    "# model.add(MaxPooling2D(2,2))\n",
    "# model.add(Conv2D(512, (3,3), activation='relu'))\n",
    "# model.add(MaxPooling2D(2,2))\n",
    "\n",
    "model.add(Flatten())\n",
    "model.add(Dropout(0.5))\n",
    "model.add(Dense(64, activation='relu')) # hidden layer\n",
    "\n",
    "model.add(Dense(512, activation='softmax'))\n",
    "\n",
    "model.build()\n",
    "model.summary()"
   ]
  },
  {
   "cell_type": "code",
   "execution_count": 5,
   "id": "76273028",
   "metadata": {},
   "outputs": [],
   "source": [
    "# learning_rate=0.001, rho=0.9, momentum=0.0, epsilon=1e-07, centered=False\n",
    "myOptimizer = tf.keras.optimizers.RMSprop(\n",
    "    learning_rate=0.005, rho=0.9, momentum=0.0, epsilon=1e-07,\n",
    "    centered=False)"
   ]
  },
  {
   "cell_type": "code",
   "execution_count": 6,
   "id": "e5f75fa2",
   "metadata": {},
   "outputs": [
    {
     "data": {
      "text/plain": [
       "True"
      ]
     },
     "execution_count": 6,
     "metadata": {},
     "output_type": "execute_result"
    }
   ],
   "source": [
    "model.compile(loss='sparse_categorical_crossentropy',\n",
    "              optimizer = myOptimizer,\n",
    "              metrics=['accuracy'])\n",
    "model.built"
   ]
  },
  {
   "cell_type": "code",
   "execution_count": 7,
   "id": "69961174",
   "metadata": {},
   "outputs": [
    {
     "name": "stdout",
     "output_type": "stream",
     "text": [
      "Epoch 1/10\n",
      "22/22 [==============================] - ETA: 0s - loss: 88.7920 - accuracy: 0.6198\n",
      "Epoch 1: accuracy improved from -inf to 0.61982, saving model to /home/jovyan/CheckPoints\n",
      "INFO:tensorflow:Assets written to: /home/jovyan/CheckPoints/assets\n",
      "22/22 [==============================] - 102s 5s/step - loss: 88.7920 - accuracy: 0.6198 - val_loss: 0.3210 - val_accuracy: 0.8988\n",
      "Epoch 2/10\n",
      "22/22 [==============================] - ETA: 0s - loss: 0.2662 - accuracy: 0.9009\n",
      "Epoch 2: accuracy improved from 0.61982 to 0.90089, saving model to /home/jovyan/CheckPoints\n",
      "INFO:tensorflow:Assets written to: /home/jovyan/CheckPoints/assets\n",
      "22/22 [==============================] - 95s 4s/step - loss: 0.2662 - accuracy: 0.9009 - val_loss: 0.3696 - val_accuracy: 0.9048\n",
      "Epoch 3/10\n",
      "22/22 [==============================] - ETA: 0s - loss: 0.5084 - accuracy: 0.8876\n",
      "Epoch 3: accuracy did not improve from 0.90089\n",
      "22/22 [==============================] - 94s 4s/step - loss: 0.5084 - accuracy: 0.8876 - val_loss: 2.2819 - val_accuracy: 0.4286\n",
      "Epoch 4/10\n",
      "22/22 [==============================] - ETA: 0s - loss: 0.5089 - accuracy: 0.8994Restoring model weights from the end of the best epoch: 2.\n",
      "\n",
      "Epoch 4: accuracy did not improve from 0.90089\n",
      "22/22 [==============================] - 89s 4s/step - loss: 0.5089 - accuracy: 0.8994 - val_loss: 0.3132 - val_accuracy: 0.8869\n",
      "Epoch 4: early stopping\n",
      "\n",
      "completed: 6.0 minutes 20.0 second(s)\n"
     ]
    }
   ],
   "source": [
    "startTimer=perf_counter()\n",
    "history  =  model.fit(\n",
    "    x = train_ds,\n",
    "    y = None,\n",
    "    batch_size = BATCH_SIZE,\n",
    "    epochs = 10,\n",
    "    verbose = 'auto',\n",
    "    callbacks = [earlyStop, checkpoints],\n",
    "    validation_split = 0.0,\n",
    "    validation_data = validation_ds,\n",
    "    shuffle = False,\n",
    "    class_weight = None,\n",
    "    sample_weight = None,\n",
    "    initial_epoch = 0,\n",
    "    steps_per_epoch = TRAIN_STEPS,\n",
    "    validation_steps = VAL_STEPS,\n",
    "    validation_batch_size = BATCH_SIZE,\n",
    "    validation_freq = 1,\n",
    "    max_queue_size = 6,\n",
    "    workers = 4,\n",
    "    use_multiprocessing = True,\n",
    ")\n",
    "finishTimer=perf_counter()\n",
    "print()\n",
    "cvu.printTime(startTimer, finishTimer)"
   ]
  },
  {
   "cell_type": "code",
   "execution_count": 8,
   "id": "b49f018c",
   "metadata": {},
   "outputs": [
    {
     "name": "stdout",
     "output_type": "stream",
     "text": [
      "Help on function plotShowTFLiteImagePredictions in module __main__:\n",
      "\n",
      "plotShowTFLiteImagePredictions()\n",
      "\n"
     ]
    }
   ],
   "source": [
    "def plotShowTFLiteImagePredictions():\n",
    "    ''' '''\n",
    "    # https://www.tensorflow.org/lite/api_docs/python/tflite_model_maker/image_classifier/DataLoader\n",
    "    # A helper function that returns 'red'/'black' depending on if its two input\n",
    "    # parameter matches or not.\n",
    "    def get_label_color(val1, val2):\n",
    "        ''' '''\n",
    "        if val1 == val2:\n",
    "            return 'black'\n",
    "        else:\n",
    "            return 'red'\n",
    "\n",
    "    # Then plot 100 test images and their predicted labels.\n",
    "    # If a prediction result is different from the label provided label in \"test\"\n",
    "    # dataset, we will highlight it in red color.\n",
    "    plt.figure(figsize=(20, 20))\n",
    "    predicts = model.predict_top_k(test_data)\n",
    "    for i, (image, label) in enumerate(test_data.gen_dataset().unbatch().take(10)):\n",
    "        ax = plt.subplot(10, 10, i+1)\n",
    "        plt.xticks([])\n",
    "        plt.yticks([])\n",
    "        plt.grid(False)\n",
    "        plt.imshow(image.numpy(), cmap=plt.cm.gray)\n",
    "        predict_label = predicts[i][0][0]\n",
    "        color = get_label_color(\n",
    "            predict_label, test_data.index_to_label[label.numpy()])\n",
    "        ax.xaxis.label.set_color(color)\n",
    "        plt.xlabel('Predicted: %s' % predict_label)\n",
    "    plt.show()\n",
    "help(plotShowTFLiteImagePredictions)\n",
    "# plotShowTFLiteImagePredictions()"
   ]
  },
  {
   "cell_type": "code",
   "execution_count": 14,
   "id": "6f1b35ea",
   "metadata": {},
   "outputs": [
    {
     "name": "stderr",
     "output_type": "stream",
     "text": [
      "Clipping input data to the valid range for imshow with RGB data ([0..1] for floats or [0..255] for integers).\n"
     ]
    },
    {
     "data": {
      "image/png": "[encoded data removed]",
      "text/plain": [
       "<Figure size 864x864 with 1 Axes>"
      ]
     },
     "metadata": {},
     "output_type": "display_data"
    }
   ],
   "source": [
    "plt.figure(figsize=(12, 12))\n",
    "for i, (image, label) in enumerate(test_ds.unbatch().take(1)):\n",
    "  plt.subplot(3, 3, i+1)\n",
    "  plt.xticks([])\n",
    "  plt.yticks([])\n",
    "  plt.grid(False)\n",
    "  plt.imshow(image.numpy(), cmap=plt.cm.gray)\n",
    "  # plt.xlabel(data.index_to_label[label.numpy()])\n",
    "plt.show()"
   ]
  },
  {
   "cell_type": "code",
   "execution_count": 10,
   "id": "ff6a4a89",
   "metadata": {},
   "outputs": [
    {
     "name": "stdout",
     "output_type": "stream",
     "text": [
      "model saved to: /home/jovyan/Defcon4_Sequential_V8_dnn.h5\n"
     ]
    }
   ],
   "source": [
    "modelName = model.name + '_dnn.h5'\n",
    "modelSavePath = join(contentPath, modelName)\n",
    "print(f'model saved to: {modelSavePath}')\n",
    "model.save(modelSavePath, overwrite=True)"
   ]
  },
  {
   "cell_type": "code",
   "execution_count": 11,
   "id": "dde86014",
   "metadata": {},
   "outputs": [
    {
     "name": "stdout",
     "output_type": "stream",
     "text": [
      "newModelName: \u001b[1;95mDefcon4_Sequential_V8.tflite\u001b[0m\n",
      "saved: \u001b[1;92mDefcon4_Sequential_V8.tflite\n"
     ]
    }
   ],
   "source": [
    "newModelName = model.name + '.tflite'\n",
    "# modelSavePath = join(contentPath, modelName)\n",
    "print(f'newModelName: {C.BIPurple}{newModelName}{C.ColorOff}')\n",
    "\n",
    "# Convert the model\n",
    "converter = tf.lite.TFLiteConverter.from_saved_model(checkpointPath) # path to the SavedModel directory\n",
    "converter.target_spec.supported_ops = [\n",
    "  tf.lite.OpsSet.TFLITE_BUILTINS, tf.lite.OpsSet.SELECT_TF_OPS\n",
    "]\n",
    "converter.optimizations=[tf.lite.Optimize.DEFAULT]\n",
    "tflite_model = converter.convert()\n",
    "\n",
    "# Save the model.\n",
    "with open(newModelName, 'wb') as f:\n",
    "    f.write(tflite_model)\n",
    "if exists(newModelName):\n",
    "    print(f'saved: {C.BIGreen}{newModelName}')"
   ]
  },
  {
   "cell_type": "code",
   "execution_count": 12,
   "id": "6f92fb24",
   "metadata": {},
   "outputs": [
    {
     "name": "stdout",
     "output_type": "stream",
     "text": [
      "New files...\n",
      "\u001b[0mDefcon4_Sequential_V8.tflite\n",
      "\u001b[1;94mCheckPoints\n",
      "\u001b[0mDefcon4_Sequential_V8_dnn.h5\n"
     ]
    }
   ],
   "source": [
    "listNewFiles()"
   ]
  }
 ],
 "metadata": {
  "kernelspec": {
   "display_name": "Python 3 (ipykernel)",
   "language": "python",
   "name": "python3"
  },
  "language_info": {
   "codemirror_mode": {
    "name": "ipython",
    "version": 3
   },
   "file_extension": ".py",
   "mimetype": "text/x-python",
   "name": "python",
   "nbconvert_exporter": "python",
   "pygments_lexer": "ipython3",
   "version": "3.7.12"
  }
 },
 "nbformat": 4,
 "nbformat_minor": 5
}
