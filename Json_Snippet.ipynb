{
 "cells": [
  {
   "cell_type": "code",
   "execution_count": 1,
   "id": "97dbc593",
   "metadata": {},
   "outputs": [
    {
     "name": "stdout",
     "output_type": "stream",
     "text": [
      "Overwriting JsonUtils.py\n"
     ]
    }
   ],
   "source": [
    "%%writefile JsonUtils.py\n",
    "from __future__ import absolute_import\n",
    "import glob, json, os, pprint\n",
    "pp = pprint.PrettyPrinter()\n",
    "from os.path import join\n",
    "globData=glob.glob('**', recursive=True)\n",
    "# dataPath=join(os.getcwd(), 'data.json')\n",
    "# initalInstalls:any\n",
    "# initialGlobList:list\n",
    "\n",
    "class JsonUtils:\n",
    "    ''' '''\n",
    "    import glob, json, os, pprint\n",
    "    \n",
    "    def __init__(self):\n",
    "        \"\"\"init\"\"\"\n",
    "        self.pp = pprint.PrettyPrinter()\n",
    "        self.created = '06/13/2022'\n",
    "        self.contentPath=os.getcwd()\n",
    "        # self.jsu = JsonUtils\n",
    "        \n",
    "    def __iter__(self):\n",
    "         \"\"\"iter\"\"\"\n",
    "         for key in self.some_sequence:\n",
    "            yield (key, 'Value for {}'.format(key))\n",
    "            \n",
    "    def createJsonFile(name:str, data:any):\n",
    "        ''' '''\n",
    "        import json\n",
    "        if not name.endswith('.json'):\n",
    "            name = name + '.json'\n",
    "        with open(name, 'w') as f:\n",
    "            json.dump(data, f, indent='\\t')\n",
    "            # print(\"New json file is created from data.json file\")\n",
    "            print(f'{name} file is created')\n",
    "\n",
    "    def inspectJsonFile(existing:str):\n",
    "        ''' '''\n",
    "        with open(existing, 'r') as fil:\n",
    "            initalInstalls = json.load(fil)\n",
    "            pp.pprint(initalInstalls)\n",
    "            # print(initalInstalls)\n",
    "jsu=JsonUtils()"
   ]
  },
  {
   "cell_type": "code",
   "execution_count": 2,
   "id": "7c49bdf8",
   "metadata": {},
   "outputs": [
    {
     "ename": "TypeError",
     "evalue": "'module' object is not callable",
     "output_type": "error",
     "traceback": [
      "\u001b[0;31m---------------------------------------------------------------------------\u001b[0m",
      "\u001b[0;31mTypeError\u001b[0m                                 Traceback (most recent call last)",
      "\u001b[0;32m/tmp/ipykernel_285/371193923.py\u001b[0m in \u001b[0;36m<module>\u001b[0;34m\u001b[0m\n\u001b[1;32m      1\u001b[0m \u001b[0;32mimport\u001b[0m \u001b[0mJsonUtils\u001b[0m\u001b[0;34m\u001b[0m\u001b[0;34m\u001b[0m\u001b[0m\n\u001b[1;32m      2\u001b[0m \u001b[0;31m# from JsonUtils import *\u001b[0m\u001b[0;34m\u001b[0m\u001b[0;34m\u001b[0m\u001b[0;34m\u001b[0m\u001b[0m\n\u001b[0;32m----> 3\u001b[0;31m \u001b[0mjsu\u001b[0m\u001b[0;34m=\u001b[0m\u001b[0mJsonUtils\u001b[0m\u001b[0;34m(\u001b[0m\u001b[0;34m)\u001b[0m\u001b[0;34m\u001b[0m\u001b[0;34m\u001b[0m\u001b[0m\n\u001b[0m\u001b[1;32m      4\u001b[0m \u001b[0;31m# jsu.createJsonFile('list', data=globData)\u001b[0m\u001b[0;34m\u001b[0m\u001b[0;34m\u001b[0m\u001b[0;34m\u001b[0m\u001b[0m\n",
      "\u001b[0;31mTypeError\u001b[0m: 'module' object is not callable"
     ]
    }
   ],
   "source": [
    "import JsonUtils\n",
    "# from JsonUtils import *\n",
    "jsu=JsonUtils()\n",
    "# jsu.createJsonFile('list', data=globData)"
   ]
  }
 ],
 "metadata": {
  "kernelspec": {
   "display_name": "Python 3 (ipykernel)",
   "language": "python",
   "name": "python3"
  },
  "language_info": {
   "codemirror_mode": {
    "name": "ipython",
    "version": 3
   },
   "file_extension": ".py",
   "mimetype": "text/x-python",
   "name": "python",
   "nbconvert_exporter": "python",
   "pygments_lexer": "ipython3",
   "version": "3.7.12"
  }
 },
 "nbformat": 4,
 "nbformat_minor": 5
}
