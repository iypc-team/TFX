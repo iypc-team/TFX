{
 "cells": [
  {
   "cell_type": "code",
   "execution_count": null,
   "id": "21195ad2",
   "metadata": {},
   "outputs": [],
   "source": [
    "def getDate():\n",
    "    import time\n",
    "    secs = time.time()\n",
    "    secs = secs - 5 * 60 * 60\n",
    "    localTime = time.ctime(secs)\n",
    "    print(f'{localTime}')\n",
    "    return localTime\n",
    "getDate()"
   ]
  },
  {
   "cell_type": "code",
   "execution_count": null,
   "id": "2d39a2a8",
   "metadata": {},
   "outputs": [],
   "source": [
    "tfEnvironmentString='os.environ[TF_CPP_MIN_LOG_LEVEL] = 5'\n",
    "tfEnvironmentString\n",
    "# os.environ['TF_CPP_MIN_LOG_LEVEL'] = '5'"
   ]
  },
  {
   "cell_type": "code",
   "execution_count": null,
   "id": "7c49bdf8",
   "metadata": {},
   "outputs": [],
   "source": [
    "from JsonUtils import *\n",
    "print(jsu.created)\n",
    "jsu.listJsonFiles()\n",
    "\n",
    "# jsu.createJsonFile('list', data=globData)"
   ]
  },
  {
   "cell_type": "code",
   "execution_count": null,
   "id": "c6fef692",
   "metadata": {},
   "outputs": [],
   "source": []
  }
 ],
 "metadata": {
  "kernelspec": {
   "display_name": "Python 3 (ipykernel)",
   "language": "python",
   "name": "python3"
  },
  "language_info": {
   "codemirror_mode": {
    "name": "ipython",
    "version": 3
   },
   "file_extension": ".py",
   "mimetype": "text/x-python",
   "name": "python",
   "nbconvert_exporter": "python",
   "pygments_lexer": "ipython3",
   "version": "3.7.12"
  }
 },
 "nbformat": 4,
 "nbformat_minor": 5
}
