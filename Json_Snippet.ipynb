{
 "cells": [
  {
   "cell_type": "code",
   "execution_count": null,
   "id": "6e596cf8",
   "metadata": {},
   "outputs": [],
   "source": [
    "import os\n",
    "from os.path import basename\n",
    "item='home/joyvan/bullshit.json'\n",
    "ts:set\n",
    "ts={'q'}\n",
    "ts.remove('q')\n",
    "print(len(ts), ts)\n",
    "ts.add(item)\n",
    "print(len(ts), ts)\n",
    "ts.add(basename(item))\n",
    "print(len(ts), ts)"
   ]
  },
  {
   "cell_type": "code",
   "execution_count": null,
   "id": "5b62be12",
   "metadata": {},
   "outputs": [],
   "source": [
    "%%writefile JsonUtils.py\n",
    "from __future__ import absolute_import\n",
    "from BashColors import C\n",
    "import glob, json, os, pprint\n",
    "pp = pprint.PrettyPrinter()\n",
    "from os.path import join\n",
    "globData=glob.glob('**', recursive=True)\n",
    "\n",
    "class JsonUtils:\n",
    "    ''' '''\n",
    "    from BashColors import C\n",
    "    import glob, json, os, pprint\n",
    "    # os.environ['TZ']\n",
    "    \n",
    "    def __init__(self):\n",
    "        \"\"\"init\"\"\"\n",
    "        self.pp = pprint.PrettyPrinter()\n",
    "        self.created = self.getDate()\n",
    "        self.contentPath=os.getcwd()\n",
    "        self.jsonFileSet={'q'}\n",
    "        self.jsonFileSet.remove('q')\n",
    "        self.jsu = JsonUtils\n",
    "        \n",
    "    def __iter__(self):\n",
    "         \"\"\"iter\"\"\"\n",
    "         for key in self.some_sequence:\n",
    "            yield (key, 'Value for {}'.format(key))\n",
    "            \n",
    "    def getDate(self):\n",
    "        ''' '''\n",
    "        import time\n",
    "        secs = time.time()\n",
    "        secs = secs - (5 * 60 * 60)\n",
    "        date=time.ctime(secs)\n",
    "        return date\n",
    "\n",
    "    def listJsonFiles(self):\n",
    "        json_files = glob.glob('*.json', recursive=True)\n",
    "        # print(len(json_files))\n",
    "        if len(json_files) != 0:\n",
    "            print('Json files...')\n",
    "            for fil in sorted(json_files):\n",
    "                fil = os.path.abspath(fil)\n",
    "                self.jsonFileSet.add(fil)\n",
    "                print(f'{C.BICyan}{fil}{C.ColorOff}')\n",
    "        else: print(f'{C.BIRed}No JSON files exist.{C.ColorOff}')\n",
    "        \n",
    "    def createJsonFile(self, name:str, input_data:any):\n",
    "        ''' '''\n",
    "        # import json\n",
    "        if not name.endswith('.json'):\n",
    "            name = name + '.json'\n",
    "            fullPath=join(self.contentPath, name)\n",
    "        with open(name, 'w') as f:\n",
    "            json.dump(input_data, f, indent='\\t')\n",
    "            print(f'{name} file is created')\n",
    "\n",
    "    def inspectJsonFile(self, existing:str):\n",
    "        ''' '''\n",
    "        with open(existing, 'r') as fil:\n",
    "            initalInstalls = json.load(fil)\n",
    "            pp.pprint(initalInstalls)\n",
    "            # print(initalInstalls)\n",
    "jsu=JsonUtils()"
   ]
  },
  {
   "cell_type": "code",
   "execution_count": null,
   "id": "2d39a2a8",
   "metadata": {},
   "outputs": [],
   "source": [
    "tfEnvironmentString='os.environ[TF_CPP_MIN_LOG_LEVEL] = 5'\n",
    "tfEnvironmentString\n",
    "# os.environ['TF_CPP_MIN_LOG_LEVEL'] = '5'"
   ]
  },
  {
   "cell_type": "code",
   "execution_count": null,
   "id": "7c49bdf8",
   "metadata": {},
   "outputs": [],
   "source": [
    "from JsonUtils import *\n",
    "print(jsu.created)\n",
    "jsu.listJsonFiles()\n",
    "\n",
    "# jsu.createJsonFile('list', data=globData)"
   ]
  },
  {
   "cell_type": "code",
   "execution_count": null,
   "id": "df0b54e5",
   "metadata": {},
   "outputs": [],
   "source": [
    "tfStr = 6969\n",
    "print(tfStr)\n",
    "jsu.createJsonFile(name='BULLSHIT', input_data=tfStr)"
   ]
  },
  {
   "cell_type": "code",
   "execution_count": null,
   "id": "c6fef692",
   "metadata": {},
   "outputs": [],
   "source": [
    "for fil in jsu.jsonFileSet:\n",
    "    print(type(fil))\n",
    "    jsu.inspectJsonFile(fil)\n",
    "    print()"
   ]
  }
 ],
 "metadata": {
  "kernelspec": {
   "display_name": "Python 3 (ipykernel)",
   "language": "python",
   "name": "python3"
  },
  "language_info": {
   "codemirror_mode": {
    "name": "ipython",
    "version": 3
   },
   "file_extension": ".py",
   "mimetype": "text/x-python",
   "name": "python",
   "nbconvert_exporter": "python",
   "pygments_lexer": "ipython3",
   "version": "3.7.12"
  }
 },
 "nbformat": 4,
 "nbformat_minor": 5
}
