{
 "cells": [
  {
   "cell_type": "code",
   "execution_count": null,
   "id": "97dbc593",
   "metadata": {},
   "outputs": [],
   "source": [
    "%%writefile JsonUtils.py\n",
    "from __future__ import absolute_import\n",
    "from BashColors import C\n",
    "import glob, json, os, pprint\n",
    "pp = pprint.PrettyPrinter()\n",
    "from os.path import join\n",
    "globData=glob.glob('**', recursive=True)\n",
    "# dataPath=join(os.getcwd(), 'data.json')\n",
    "# initalInstalls:any\n",
    "# initialGlobList:list\n",
    "\n",
    "class JsonUtils:\n",
    "    ''' '''\n",
    "    from BashColors import C\n",
    "    import glob, json, os, pprint\n",
    "    \n",
    "    def __init__(self):\n",
    "        \"\"\"init\"\"\"\n",
    "        self.pp = pprint.PrettyPrinter()\n",
    "        self.created = '06/13/2022'\n",
    "        self.contentPath=os.getcwd()\n",
    "        self.jsu = JsonUtils\n",
    "        \n",
    "    def __iter__(self):\n",
    "         \"\"\"iter\"\"\"\n",
    "         for key in self.some_sequence:\n",
    "            yield (key, 'Value for {}'.format(key))\n",
    "            \n",
    "    def listJsonFiles(self):\n",
    "        json_files = glob.glob('*.json', recursive=True)\n",
    "        # print(len(json_files))\n",
    "        if len(json_files) != 0:\n",
    "            for fil in sorted(json_files):\n",
    "                print(fil)\n",
    "        else: print(f'{C.BIRed}No JSON files exist.{C.ColorOff}')\n",
    "        \n",
    "    def createJsonFile(name:str, data:any):\n",
    "        ''' '''\n",
    "        # import json\n",
    "        if not name.endswith('.json'):\n",
    "            name = name + '.json'\n",
    "        with open(name, 'w') as f:\n",
    "            json.dump(data, f, indent='\\t')\n",
    "            # print(\"New json file is created from data.json file\")\n",
    "            print(f'{name} file is created')\n",
    "\n",
    "    def inspectJsonFile(existing:str):\n",
    "        ''' '''\n",
    "        with open(existing, 'r') as fil:\n",
    "            initalInstalls = json.load(fil)\n",
    "            pp.pprint(initalInstalls)\n",
    "            # print(initalInstalls)\n",
    "jsu=JsonUtils()"
   ]
  },
  {
   "cell_type": "code",
   "execution_count": null,
   "id": "7c49bdf8",
   "metadata": {},
   "outputs": [],
   "source": [
    "from JsonUtils import *\n",
    "jsu.listJsonFiles()\n",
    "\n",
    "# jsu.createJsonFile('list', data=globData)"
   ]
  },
  {
   "cell_type": "code",
   "execution_count": null,
   "id": "2d39a2a8",
   "metadata": {},
   "outputs": [],
   "source": [
    "tfEnvironmentString='os.environ[TF_CPP_MIN_LOG_LEVEL] = 5'\n",
    "tfEnvironmentString\n",
    "# os.environ['TF_CPP_MIN_LOG_LEVEL'] = '5'"
   ]
  }
 ],
 "metadata": {
  "kernelspec": {
   "display_name": "Python 3 (ipykernel)",
   "language": "python",
   "name": "python3"
  },
  "language_info": {
   "codemirror_mode": {
    "name": "ipython",
    "version": 3
   },
   "file_extension": ".py",
   "mimetype": "text/x-python",
   "name": "python",
   "nbconvert_exporter": "python",
   "pygments_lexer": "ipython3",
   "version": "3.7.12"
  }
 },
 "nbformat": 4,
 "nbformat_minor": 5
}
