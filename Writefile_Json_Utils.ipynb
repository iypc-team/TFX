{
 "cells": [
  {
   "cell_type": "code",
   "execution_count": null,
   "id": "cdf48db2",
   "metadata": {},
   "outputs": [],
   "source": [
    "# %%writefile JsonUtils.py\n",
    "from __future__ import absolute_import\n",
    "from BashColors import C\n",
    "import glob, json, os, pprint\n",
    "from os.path import exists, join\n",
    "\n",
    "# %%writefile\n",
    "class JasonFileUtils:\n",
    "    '''Json file utilities'''\n",
    "    \n",
    "    def __init__(self):\n",
    "        ''' '''\n",
    "        from BashColors import C\n",
    "        self.jsu = JasonFileUtils\n",
    "        self.contentPath=os.getcwd()\n",
    "        self.globListPath=join(self.contentPath, 'initialGlobList.json')\n",
    "        self.pp = pprint.PrettyPrinter()\n",
    "        self.updated = '06/06/2022'\n",
    "        self.initialGlobList:list\n",
    "        print(f'updated: {C.BICyan}{self.updated}{C.ColorOff}')\n",
    "        with open(self.globListPath, 'r') as f:\n",
    "            self.initialGlobList = json.load(f)\n",
    "        # self.initial = initialGlobList\n",
    "        # print(self.initial)\n",
    "        \n",
    "    def __iter__(self):\n",
    "        ''' '''\n",
    "        for key in self.some_sequence:\n",
    "            yield (key, 'Value for {}'.format(key))\n",
    "            \n",
    "    __all__ = ['jsu', 'contentPath', 'updated']\n",
    "    __builtin__ = ['listModules', 'listNewFiles', '']\n",
    "\n",
    "    def createJsonFile(self, fileName:str, insertObject):\n",
    "        if not fileName.endswith('.json'):\n",
    "            fileName= fileName + '.json'\n",
    "        path = join(self.contentPath, fileName)\n",
    "        with open(path, 'w') as f:\n",
    "            # indent=1 is not needed but makes the file human-readable\n",
    "            json.dump(fp=path, obj=insertObject, indent=1)\n",
    "\n",
    "    def printJsonFile(self, path):\n",
    "        with open(path, 'r') as f:\n",
    "            initialGlobList = json.load(f)\n",
    "            pprint.pprint(initialGlobList)\n",
    "\n",
    "    def listNewFiles(self, deleteNew=False):\n",
    "        currentFilesGlob=glob.glob('**', recursive=True)\n",
    "        print(f'{C.BICyan}New files...{C.ColorOff}')\n",
    "        if len(self.initialGlobList) == len(currentFilesGlob):\n",
    "            print(f'{C.BIRed}No new files.\\nNothing to see here')\n",
    "        for fil in currentFilesGlob:\n",
    "            if not fil in self.initialGlobList:\n",
    "                if isdir(fil):\n",
    "                    print(f'{C.BIBlue}{fil}')\n",
    "                    if deleteNew:\n",
    "                        shutil.rmtree(fil)\n",
    "                elif isfile(fil):\n",
    "                    print(f'{C.ColorOff}{fil}')\n",
    "                    if deleteNew:\n",
    "                        os.remove(fil)\n",
    "\n",
    "    def listModules(self, silent=True):\n",
    "        '''List system installed modules\\n233 modules installed at start'''\n",
    "        alreadyInstalledSet=set([each.split('.')[0] for each in sys.modules.keys()])\n",
    "        modul = sys.modules.keys()\n",
    "        for idx, item in sorted(enumerate(alreadyInstalledSet)):\n",
    "            if item in sorted(alreadyInstalledSet):\n",
    "                if not silent:\n",
    "                    print(f'{idx} {C.BIBlue}{item}{C.ColorOff}')\n",
    "        print(f'{idx} modules installed')\n",
    "jsu=JasonFileUtils()"
   ]
  },
  {
   "cell_type": "code",
   "execution_count": null,
   "id": "c060f582",
   "metadata": {},
   "outputs": [],
   "source": [
    "jsu=JasonFileUtils()\n",
    "listItem=glob.glob('**')\n",
    "jsu.createJsonFile(fileName='BULLSHIT', insertObject=listItem)"
   ]
  },
  {
   "cell_type": "code",
   "execution_count": null,
   "id": "4b1f35a1",
   "metadata": {},
   "outputs": [],
   "source": [
    "jsu.listNewFiles()"
   ]
  }
 ],
 "metadata": {
  "kernelspec": {
   "display_name": "Python 3 (ipykernel)",
   "language": "python",
   "name": "python3"
  },
  "language_info": {
   "codemirror_mode": {
    "name": "ipython",
    "version": 3
   },
   "file_extension": ".py",
   "mimetype": "text/x-python",
   "name": "python",
   "nbconvert_exporter": "python",
   "pygments_lexer": "ipython3",
   "version": "3.7.12"
  }
 },
 "nbformat": 4,
 "nbformat_minor": 5
}
